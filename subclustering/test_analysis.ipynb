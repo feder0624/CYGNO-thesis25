{
 "cells": [
  {
   "cell_type": "code",
   "execution_count": 1,
   "id": "7f135da8-1743-45a4-93d7-f5781f25916f",
   "metadata": {},
   "outputs": [
    {
     "name": "stderr",
     "output_type": "stream",
     "text": [
      "Matplotlib is building the font cache; this may take a moment.\n"
     ]
    }
   ],
   "source": [
    "import numpy as np\n",
    "import uproot as up\n",
    "import awkward as ak\n",
    "import matplotlib.pyplot as plt"
   ]
  },
  {
   "cell_type": "code",
   "execution_count": 2,
   "id": "4dc90128-cb7e-49c9-a00d-3797418254b8",
   "metadata": {},
   "outputs": [
    {
     "name": "stdout",
     "output_type": "stream",
     "text": [
      "['Tracks;1', 'track_info;1']\n"
     ]
    }
   ],
   "source": [
    "import os\n",
    "fpath = 'Analysis_reco_run13326_3D.root'\n",
    "run = up.open(fpath)\n",
    "print(run.keys())"
   ]
  },
  {
   "cell_type": "code",
   "execution_count": 4,
   "id": "54c1cd3f-7189-497f-8079-f725f0ebffcb",
   "metadata": {},
   "outputs": [
    {
     "name": "stdout",
     "output_type": "stream",
     "text": [
      "[]\n",
      "['run', 'event', 'nSc', 'nSc_red', 'Integral', 'ScSize', 'AnglePCA', 'AngleRMS', 'RecoTheta', 'RecoScRMS', 'RecoScTGaussSigma', 'X_ImpactPoint', 'Y_ImpactPoint', 'Xmean', 'Ymean', 'Xmin', 'Ymin', 'Xmax', 'Ymax', 'XBar', 'YBar']\n"
     ]
    }
   ],
   "source": [
    "tracks = run['Tracks']\n",
    "info = run['track_info']\n",
    "print(tracks.keys())\n",
    "print(info.keys())"
   ]
  },
  {
   "cell_type": "code",
   "execution_count": 5,
   "id": "5c4f0d13-ae66-4668-88be-fb3aafd95f2a",
   "metadata": {},
   "outputs": [
    {
     "name": "stdout",
     "output_type": "stream",
     "text": [
      "     run  event  nSc  nSc_red      Integral  ScSize  AnglePCA  AngleRMS  \\\n",
      "0  13326      0   21       14    918.407837     412 -2.422474  0.061909   \n",
      "1  13326      1    6        5  14761.421875    4231 -0.773094 -0.717350   \n",
      "2  13326      6   13       10   2882.469971     999  0.448549  0.401083   \n",
      "3  13326      8   10        9   2884.142334     426 -0.914977 -0.813232   \n",
      "4  13326     10    7        7   2499.819580     587  2.351919 -1.190175   \n",
      "\n",
      "    RecoTheta  RecoScRMS  ...  X_ImpactPoint  Y_ImpactPoint        Xmean  \\\n",
      "0    4.255690   4.618550  ...    1774.673236    2526.446340  2525.816406   \n",
      "1  -41.061413   6.055548  ...    1482.287675    1428.558665  1206.277222   \n",
      "2   22.909481   5.208783  ...    1726.458404    2085.477234  2134.135742   \n",
      "3 -137.059998   8.761233  ...    1655.667730    1657.553192  1617.202148   \n",
      "4 -158.921463   6.874271  ...    1900.651025    1085.900708  1134.974854   \n",
      "\n",
      "         Ymean    Xmin    Ymin    Xmax    Ymax         XBar         YBar  \n",
      "0  1718.388550  2504.0  1684.0  2543.0  1783.0  1718.680163  2526.302295  \n",
      "1  1773.369385  1068.0  1472.0  1439.0  1943.0  1773.479074  1207.043739  \n",
      "2  1833.210205  2076.0  1720.0  2187.0  1935.0  1834.221612  2134.912577  \n",
      "3  1690.736816  1588.0  1644.0  1671.0  1727.0  1691.299513  1617.696076  \n",
      "4  1879.746460  1076.0  1856.0  1183.0  1907.0  1879.969853  1136.213134  \n",
      "\n",
      "[5 rows x 21 columns]\n"
     ]
    }
   ],
   "source": [
    "import pandas as pd\n",
    "\n",
    "df = info.arrays(library=\"pd\")\n",
    "print(df.head())"
   ]
  },
  {
   "cell_type": "code",
   "execution_count": 7,
   "id": "dc0c427a-93ba-4abc-8376-ba91057547f7",
   "metadata": {},
   "outputs": [
    {
     "data": {
      "image/png": "[encoded data removed]",
      "text/plain": [
       "<Figure size 640x480 with 1 Axes>"
      ]
     },
     "metadata": {},
     "output_type": "display_data"
    }
   ],
   "source": [
    "plt.hist(df['Integral'].to_numpy(), bins=100)\n",
    "plt.show()"
   ]
  },
  {
   "cell_type": "code",
   "execution_count": null,
   "id": "3464e90e-9539-437e-94dd-9080e785f266",
   "metadata": {},
   "outputs": [],
   "source": []
  }
 ],
 "metadata": {
  "kernelspec": {
   "display_name": "Python 3 (ipykernel)",
   "language": "python",
   "name": "python3"
  },
  "language_info": {
   "codemirror_mode": {
    "name": "ipython",
    "version": 3
   },
   "file_extension": ".py",
   "mimetype": "text/x-python",
   "name": "python",
   "nbconvert_exporter": "python",
   "pygments_lexer": "ipython3",
   "version": "3.11.9"
  }
 },
 "nbformat": 4,
 "nbformat_minor": 5
}
